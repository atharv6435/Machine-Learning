{
 "cells": [
  {
   "cell_type": "markdown",
   "metadata": {},
   "source": []
  },
  {
   "cell_type": "markdown",
   "metadata": {},
   "source": [
    "Variadic Functions "
   ]
  },
  {
   "cell_type": "markdown",
   "metadata": {},
   "source": []
  },
  {
   "cell_type": "code",
   "execution_count": 4,
   "metadata": {},
   "outputs": [],
   "source": [
    "def multiply(a:int|float,b:int|float)->int|float:\n",
    "    \"\"\"\n",
    "    This function multiplies the two numbers\n",
    "    \"\"\"\n",
    "    m = a*b\n",
    "    return m\n"
   ]
  },
  {
   "cell_type": "code",
   "execution_count": 5,
   "metadata": {},
   "outputs": [
    {
     "data": {
      "text/plain": [
       "12"
      ]
     },
     "execution_count": 5,
     "metadata": {},
     "output_type": "execute_result"
    }
   ],
   "source": [
    "multiply(3, 4)"
   ]
  },
  {
   "cell_type": "code",
   "execution_count": 6,
   "metadata": {},
   "outputs": [],
   "source": [
    "def func1(*args):\n",
    "    print(args)\n",
    "    print(type(args))\n",
    "    for i in args:\n",
    "        print(i)"
   ]
  },
  {
   "cell_type": "code",
   "execution_count": 7,
   "metadata": {},
   "outputs": [
    {
     "name": "stdout",
     "output_type": "stream",
     "text": [
      "(1, 2, 3)\n",
      "<class 'tuple'>\n",
      "1\n",
      "2\n",
      "3\n"
     ]
    }
   ],
   "source": [
    "func1(1,2,3)"
   ]
  },
  {
   "cell_type": "code",
   "execution_count": 9,
   "metadata": {},
   "outputs": [
    {
     "name": "stdout",
     "output_type": "stream",
     "text": [
      "(6, 7, 'g', 'sf', 45.6)\n",
      "<class 'tuple'>\n",
      "6\n",
      "7\n",
      "g\n",
      "sf\n",
      "45.6\n"
     ]
    }
   ],
   "source": [
    "func1(6,7,\"g\",\"sf\",45.6)"
   ]
  },
  {
   "cell_type": "code",
   "execution_count": 11,
   "metadata": {},
   "outputs": [],
   "source": [
    "b = [1,3.4,\"dfg\"]"
   ]
  },
  {
   "cell_type": "code",
   "execution_count": 13,
   "metadata": {},
   "outputs": [
    {
     "name": "stdout",
     "output_type": "stream",
     "text": [
      "(1, 3.4, 'dfg')\n",
      "<class 'tuple'>\n",
      "1\n",
      "3.4\n",
      "dfg\n"
     ]
    }
   ],
   "source": [
    "func1(*b)"
   ]
  },
  {
   "cell_type": "code",
   "execution_count": null,
   "metadata": {},
   "outputs": [],
   "source": []
  },
  {
   "cell_type": "markdown",
   "metadata": {},
   "source": [
    "## Multiplying Multiple Number"
   ]
  },
  {
   "cell_type": "code",
   "execution_count": 17,
   "metadata": {},
   "outputs": [],
   "source": [
    "def product(*args):\n",
    "    p=1\n",
    "    for i in args:\n",
    "        p = p*i\n",
    "\n",
    "\n",
    "    return p"
   ]
  },
  {
   "cell_type": "code",
   "execution_count": 19,
   "metadata": {},
   "outputs": [
    {
     "data": {
      "text/plain": [
       "210"
      ]
     },
     "execution_count": 19,
     "metadata": {},
     "output_type": "execute_result"
    }
   ],
   "source": [
    "product(5,6,7)"
   ]
  },
  {
   "cell_type": "code",
   "execution_count": 18,
   "metadata": {},
   "outputs": [
    {
     "data": {
      "text/plain": [
       "15"
      ]
     },
     "execution_count": 18,
     "metadata": {},
     "output_type": "execute_result"
    }
   ],
   "source": [
    "product(3,5)"
   ]
  },
  {
   "cell_type": "markdown",
   "metadata": {},
   "source": [
    "## Biling example\n",
    "\n",
    "#1 input [product name,price,qty]\n",
    "#2 perform billing and add 18%GST"
   ]
  },
  {
   "cell_type": "code",
   "execution_count": 25,
   "metadata": {},
   "outputs": [],
   "source": [
    "def billing(tax_rate=18,*args):\n",
    "    base_total = 0\n",
    "\n",
    "    for name , price , qty in args:\n",
    "        item_total = price*qty\n",
    "        base_total = base_total + item_total\n",
    "        print(f\"Product Name :{name},Price : {price},QTY : {qty}\")\n",
    "        print(f\"Item total : {item_total} \")\n",
    "        print(\"\\n===================================================\\n\")\n",
    "\n",
    "    tax = (tax_rate/100)*base_total\n",
    "\n",
    "    final_total = base_total+tax\n",
    "\n",
    "    print(f\" Tax : {tax}\")\n",
    "    print(f\"Total Bill : {final_total}\")"
   ]
  },
  {
   "cell_type": "code",
   "execution_count": 22,
   "metadata": {},
   "outputs": [],
   "source": [
    "c1 = [\n",
    "    (\"Mobile\", 45000, 1),\n",
    "    (\"Screen Guard\", 1000, 2),\n",
    "    (\"Mobile Cover\", 300, 2)\n",
    "]"
   ]
  },
  {
   "cell_type": "code",
   "execution_count": 23,
   "metadata": {},
   "outputs": [
    {
     "data": {
      "text/plain": [
       "[('Mobile', 45000, 1), ('Screen Guard', 1000, 2), ('Mobile Cover', 300, 2)]"
      ]
     },
     "execution_count": 23,
     "metadata": {},
     "output_type": "execute_result"
    }
   ],
   "source": [
    "c1"
   ]
  },
  {
   "cell_type": "code",
   "execution_count": 26,
   "metadata": {},
   "outputs": [
    {
     "name": "stdout",
     "output_type": "stream",
     "text": [
      "Product Name :Mobile,Price : 45000,QTY : 1\n",
      "Item total : 45000 \n",
      "\n",
      "===================================================\n",
      "\n",
      "Product Name :Screen Guard,Price : 1000,QTY : 2\n",
      "Item total : 2000 \n",
      "\n",
      "===================================================\n",
      "\n",
      "Product Name :Mobile Cover,Price : 300,QTY : 2\n",
      "Item total : 600 \n",
      "\n",
      "===================================================\n",
      "\n",
      " Tax : 8568.0\n",
      "Total Bill : 56168.0\n"
     ]
    }
   ],
   "source": [
    "bill1 = billing(18, *c1)"
   ]
  },
  {
   "cell_type": "code",
   "execution_count": 28,
   "metadata": {},
   "outputs": [],
   "source": [
    "bill1"
   ]
  },
  {
   "cell_type": "code",
   "execution_count": 31,
   "metadata": {},
   "outputs": [
    {
     "name": "stdout",
     "output_type": "stream",
     "text": [
      "Product Name :laptop,Price : 67000,QTY : 2\n",
      "Item total : 134000 \n",
      "\n",
      "===================================================\n",
      "\n",
      "Product Name :mouse,Price : 500,QTY : 4\n",
      "Item total : 2000 \n",
      "\n",
      "===================================================\n",
      "\n",
      " Tax : 24480.0\n",
      "Total Bill : 160480.0\n"
     ]
    }
   ],
   "source": [
    "bill2 = billing(\n",
    "\n",
    "    18,\n",
    "    (\"laptop\",67000,2),\n",
    "    (\"mouse\",500,4)\n",
    "    )"
   ]
  },
  {
   "cell_type": "code",
   "execution_count": 32,
   "metadata": {},
   "outputs": [],
   "source": [
    "def func2(**kwargs):\n",
    "    print(kwargs)\n",
    "    print(type(kwargs))\n",
    "    for key,value in kwargs.items():\n",
    "        print(f\"key:{key},value:{value}\")\n",
    "        "
   ]
  },
  {
   "cell_type": "code",
   "execution_count": 33,
   "metadata": {},
   "outputs": [
    {
     "name": "stdout",
     "output_type": "stream",
     "text": [
      "{'name': 'atharv', 'age': 21}\n",
      "<class 'dict'>\n",
      "key:name,value:atharv\n",
      "key:age,value:21\n"
     ]
    }
   ],
   "source": [
    "func2(name=\"atharv\",age=21)"
   ]
  },
  {
   "cell_type": "code",
   "execution_count": 34,
   "metadata": {},
   "outputs": [
    {
     "name": "stdout",
     "output_type": "stream",
     "text": [
      "{'name': 'Aditi', 'age': 32, 'email': 'aditi@gmail.com', 'blood_group': 'A+ve'}\n",
      "<class 'dict'>\n",
      "key:name,value:Aditi\n",
      "key:age,value:32\n",
      "key:email,value:aditi@gmail.com\n",
      "key:blood_group,value:A+ve\n"
     ]
    }
   ],
   "source": [
    "func2(name=\"Aditi\", age=32, email=\"aditi@gmail.com\", blood_group = \"A+ve\")"
   ]
  },
  {
   "cell_type": "code",
   "execution_count": 38,
   "metadata": {},
   "outputs": [],
   "source": [
    "def create_user(**kwargs):\n",
    "    user = {\n",
    "        \"name\": \"Not Available\",\n",
    "        \"age\": \"Not Available\",\n",
    "        \"occupation\": \"Not Available\",\n",
    "        \"email\": \"Not Available\"\n",
    "    }\n",
    "\n",
    "    user.update(kwargs)\n",
    "\n",
    "    return user"
   ]
  },
  {
   "cell_type": "code",
   "execution_count": 39,
   "metadata": {},
   "outputs": [],
   "source": [
    "u1 = create_user(name=\"atharv\",age=21)"
   ]
  },
  {
   "cell_type": "code",
   "execution_count": 40,
   "metadata": {},
   "outputs": [
    {
     "data": {
      "text/plain": [
       "{'name': 'atharv',\n",
       " 'age': 21,\n",
       " 'occupation': 'Not Available',\n",
       " 'email': 'Not Available'}"
      ]
     },
     "execution_count": 40,
     "metadata": {},
     "output_type": "execute_result"
    }
   ],
   "source": [
    "u1"
   ]
  },
  {
   "cell_type": "code",
   "execution_count": 41,
   "metadata": {},
   "outputs": [],
   "source": [
    "u2 = create_user(\n",
    "    name = \"atharv\",\n",
    "    age = 21,\n",
    "    occupation = \"IT\",\n",
    "    email = \"atharv@gmail.com\",\n",
    "    contact = 9975884760,\n",
    "    blood_group = \"O+ve\"\n",
    ")"
   ]
  },
  {
   "cell_type": "code",
   "execution_count": 42,
   "metadata": {},
   "outputs": [
    {
     "data": {
      "text/plain": [
       "{'name': 'atharv',\n",
       " 'age': 21,\n",
       " 'occupation': 'IT',\n",
       " 'email': 'atharv@gmail.com',\n",
       " 'contact': 9975884760,\n",
       " 'blood_group': 'O+ve'}"
      ]
     },
     "execution_count": 42,
     "metadata": {},
     "output_type": "execute_result"
    }
   ],
   "source": [
    "u2"
   ]
  },
  {
   "cell_type": "code",
   "execution_count": null,
   "metadata": {},
   "outputs": [],
   "source": []
  }
 ],
 "metadata": {
  "kernelspec": {
   "display_name": "base",
   "language": "python",
   "name": "python3"
  },
  "language_info": {
   "codemirror_mode": {
    "name": "ipython",
    "version": 3
   },
   "file_extension": ".py",
   "mimetype": "text/x-python",
   "name": "python",
   "nbconvert_exporter": "python",
   "pygments_lexer": "ipython3",
   "version": "3.12.4"
  }
 },
 "nbformat": 4,
 "nbformat_minor": 2
}
